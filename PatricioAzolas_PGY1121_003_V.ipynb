{
  "nbformat": 4,
  "nbformat_minor": 0,
  "metadata": {
    "colab": {
      "provenance": []
    },
    "kernelspec": {
      "name": "python3",
      "display_name": "Python 3"
    },
    "language_info": {
      "name": "python"
    }
  },
  "cells": [
    {
      "cell_type": "code",
      "execution_count": 151,
      "metadata": {
        "id": "oddi01RWNl67"
      },
      "outputs": [],
      "source": [
        "import numpy as np\n",
        "import datetime\n",
        "contador = 0\n",
        "Platinun = 120000\n",
        "Gold = 80000\n",
        "Silver = 50000\n",
        "cont_platinun = 0\n",
        "cont_gold = 0\n",
        "cont_silver = 0\n",
        "total_platinun = 0\n",
        "total_gold = 0\n",
        "total_silver = 0\n",
        "total_entradas = 0\n",
        "total_ganancia = 0\n",
        "listaAsiento = np.arange(1, 10*10+1).reshape(10, 10).astype(str)\n",
        "arreglo_datos = np.empty((0,2),dtype = object) #crea lista vacia para guardar los rut y num de asiento\n",
        "posicion_array = 0"
      ]
    },
    {
      "cell_type": "code",
      "source": [
        " def comprar_entradas():\n",
        "  global listaAsiento, contador, arreglo_datos, posicion_array, cont_platinun, cont_gold, cont_silver,total_platinun, total_gold, total_silver\n",
        "\n",
        "  while True :\n",
        "    cant_entradas = int(input('Favor ingrese la cantidad de entradas que desea comprar entre 1 y 3 : \\n '))\n",
        "    if cant_entradas >= 1 and cant_entradas <= 3 :\n",
        "      print('Lista de asientos disponibles: ')\n",
        "      print('_' * 50)\n",
        "      print('                     ESCENARIO')\n",
        "      print('_' * 50)\n",
        "      print(f'{listaAsiento}')\n",
        "\n",
        "      print('_' * 50)\n",
        "      print('              Lista de precios asientos')\n",
        "      print('_' * 50)\n",
        "\n",
        "      print(f'Asientos Platunum del n° 1 al 20 valor : {Platinun}')\n",
        "      print(f'Asientos Gold del n° 21 al 50 valor : {Gold}')\n",
        "      print(f'Asientos Silver del n° 51 al 100 valor : {Silver}')\n",
        "      print('_' * 50)\n",
        "      break\n",
        "    else:\n",
        "      print('El numero de entradas no puede ser menor a 1 ni mayor a 3 ')\n",
        "\n",
        "  while contador < cant_entradas :\n",
        "    num_asiento = str(input('Igrese el numero de asiento que desea comprar :\\n '))\n",
        "    rut = int(input('Ingrese Rut de asistente  sin guion, puntos ni dígito verificador :\\n '))\n",
        "    if num_asiento in listaAsiento :#busca numero de asiento dentro de la lista asiento\n",
        "      for i in range(listaAsiento.shape[0]):# recorre filas\n",
        "        for j in range(listaAsiento.shape[1]):#recorre columnas\n",
        "         if listaAsiento[i,j] == num_asiento :\n",
        "           listaAsiento[i,j] = 'x'\n",
        "           asientos_reservado = np.array([[rut,num_asiento]],dtype=object) #guarda el rut asistente y su numero de asiento\n",
        "           arreglo_datos = np.append(arreglo_datos,asientos_reservado,axis= 0) #guarda en arreglo_datos\n",
        "           posicion_array +=1\n",
        "           contador += 1\n",
        "           print('La operacion se a realizado correctamente.')\n",
        "      if int(num_asiento) > 0 and int(num_asiento) <21 :#\n",
        "        cont_platinun += 1\n",
        "      if int(num_asiento) > 20 and int(num_asiento) <51:#\n",
        "        cont_gold += 1\n",
        "      if int(num_asiento) > 50 and int(num_asiento) <101 :#\n",
        "        cont_silver += 1\n",
        "\n",
        "    else:\n",
        "      print(f'asiento {num_asiento}No esta disponible ')\n",
        "      contador = 0"
      ],
      "metadata": {
        "id": "zwH0nkunOmAM"
      },
      "execution_count": 152,
      "outputs": []
    },
    {
      "cell_type": "code",
      "source": [
        " def mostrar_ubicaciones():\n",
        "    print('Estan son los asientos disponibles : ')\n",
        "    print('-' * 50)\n",
        "    print('                     ESCENARIO')\n",
        "    print('-' * 50)\n",
        "    print(f'{listaAsiento}')"
      ],
      "metadata": {
        "id": "Xy5ERMOfOmYc"
      },
      "execution_count": 153,
      "outputs": []
    },
    {
      "cell_type": "code",
      "source": [
        "def mostrar_asistentes():\n",
        " arreglo_datos.sort(0)\n",
        " print('La lista de asistentes es :')\n",
        " print('  Rut     Asiento')\n",
        " print(f'{arreglo_datos}')"
      ],
      "metadata": {
        "id": "kCMxPa9rOmpc"
      },
      "execution_count": 154,
      "outputs": []
    },
    {
      "cell_type": "code",
      "source": [
        "def mostrar_ganancias():\n",
        "  global  cont_platinun, cont_gold, cont_silver,total_platinun, total_gold, total_silver, total_entradas, total_ganancia\n",
        "  if cont_platinun > 0 :\n",
        "   total_platinun = cont_platinun * Platinun\n",
        "  if cont_gold > 0 :\n",
        "   total_gold = cont_gold * Gold\n",
        "  if cont_silver > 0 :\n",
        "   total_silver = cont_silver * Silver\n",
        "  total_entradas = cont_platinun + cont_gold + cont_silver\n",
        "  total_ganancia = total_platinun + total_gold + total_silver\n",
        "  print('_' * 38)\n",
        "  print('|  Tipo Entrada  | Cantidad |  Total  |')\n",
        "  print('_' * 38)\n",
        "  print('Platinun $120000',        f'     {cont_platinun}', f'         {total_platinun}' )\n",
        "  print('Gold     $80000',         f'      {cont_gold}', f'         {total_gold}' )\n",
        "  print('Silver   $50000',         f'      {cont_silver}', f'         {total_silver}' )\n",
        "  print('     TOTAL    ',         f'       {total_entradas}', f'         {total_ganancia}' )"
      ],
      "metadata": {
        "id": "0kShQx7kYN27"
      },
      "execution_count": 155,
      "outputs": []
    },
    {
      "cell_type": "code",
      "source": [
        "def salir ():\n",
        "  hoy = datetime.date.today()\n",
        "  print('¡Muchas gracias por tu visita!')\n",
        "  print('Patricio Azolas')\n",
        "  print(f'{hoy}')"
      ],
      "metadata": {
        "id": "S-Z5PkneOm-M"
      },
      "execution_count": 156,
      "outputs": []
    },
    {
      "cell_type": "code",
      "source": [
        "def menu():\n",
        "  while True:\n",
        "    print('----------------MENÜ----------------')\n",
        "    print(' Concierto VIP de “Michael Jam”')\n",
        "    print('_' * 38)\n",
        "\n",
        "    print('Opcion 1- Comprar Entradas : ')\n",
        "    print('Opcion 2- Mostrar Ubicaciones : ')\n",
        "    print('Opcion 3- Ver Lista Asistentes: ')\n",
        "    print('Opcion 4- Mostrar Ganancias : ')\n",
        "    print('Opcion 5- Salir: ')\n",
        "    print('_' * 38)\n",
        "\n",
        "    opcion_menu = int(input('Ingrese la opcion a utilizar:\\n '))\n",
        "\n",
        "    if opcion_menu == 1:\n",
        "       comprar_entradas()\n",
        "    elif  opcion_menu == 2:\n",
        "       mostrar_ubicaciones()\n",
        "    elif  opcion_menu == 3:\n",
        "       mostrar_asistentes()\n",
        "    elif  opcion_menu == 4:\n",
        "       mostrar_ganancias()\n",
        "    elif  opcion_menu == 5:\n",
        "       salir()\n",
        "       break\n",
        "    else:\n",
        "     if opcion_menu < 0 or opcion_menu >5 :\n",
        "       print('Elija una opcion validad entre 1 y 5')"
      ],
      "metadata": {
        "id": "VOhbVfEwROWe"
      },
      "execution_count": 157,
      "outputs": []
    },
    {
      "cell_type": "code",
      "source": [
        "menu()"
      ],
      "metadata": {
        "id": "xLAt94Q9SVdR"
      },
      "execution_count": null,
      "outputs": []
    },
    {
      "cell_type": "code",
      "source": [
        "print(listaAsiento)"
      ],
      "metadata": {
        "id": "p8BSDAlZavQO"
      },
      "execution_count": null,
      "outputs": []
    },
    {
      "cell_type": "code",
      "source": [
        "print(cont_platinun)"
      ],
      "metadata": {
        "colab": {
          "base_uri": "https://localhost:8080/"
        },
        "id": "Myp02q0leysF",
        "outputId": "1ff6f8be-bb2d-4ff5-ba13-b87af24be289"
      },
      "execution_count": 40,
      "outputs": [
        {
          "output_type": "stream",
          "name": "stdout",
          "text": [
            "1\n"
          ]
        }
      ]
    },
    {
      "cell_type": "code",
      "source": [
        "print(arreglo_datos)"
      ],
      "metadata": {
        "colab": {
          "base_uri": "https://localhost:8080/"
        },
        "id": "hfLIEoDxo3-4",
        "outputId": "45bda2bf-b47b-41ae-e075-47ab9d4f2867"
      },
      "execution_count": 111,
      "outputs": [
        {
          "output_type": "stream",
          "name": "stdout",
          "text": [
            "[[15892713 '2']\n",
            " [16004571 '99']]\n"
          ]
        }
      ]
    }
  ]
}